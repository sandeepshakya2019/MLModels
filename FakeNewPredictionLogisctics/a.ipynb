{
 "cells": [
  {
   "cell_type": "code",
   "execution_count": 1,
   "id": "58260a99",
   "metadata": {},
   "outputs": [
    {
     "name": "stdout",
     "output_type": "stream",
     "text": [
      "Collecting git-filter-repo\n",
      "  Downloading git_filter_repo-2.47.0-py3-none-any.whl.metadata (31 kB)\n",
      "Downloading git_filter_repo-2.47.0-py3-none-any.whl (76 kB)\n",
      "   ---------------------------------------- 0.0/76.3 kB ? eta -:--:--\n",
      "   ---------------------------------------- 76.3/76.3 kB 2.1 MB/s eta 0:00:00\n",
      "Installing collected packages: git-filter-repo\n",
      "Successfully installed git-filter-repo-2.47.0\n"
     ]
    }
   ],
   "source": [
    "!pip install git-filter-repo"
   ]
  },
  {
   "cell_type": "code",
   "execution_count": null,
   "id": "866dfeaa",
   "metadata": {},
   "outputs": [],
   "source": []
  }
 ],
 "metadata": {
  "kernelspec": {
   "display_name": "base",
   "language": "python",
   "name": "python3"
  },
  "language_info": {
   "codemirror_mode": {
    "name": "ipython",
    "version": 3
   },
   "file_extension": ".py",
   "mimetype": "text/x-python",
   "name": "python",
   "nbconvert_exporter": "python",
   "pygments_lexer": "ipython3",
   "version": "3.12.4"
  }
 },
 "nbformat": 4,
 "nbformat_minor": 5
}
