{
 "cells": [
  {
   "cell_type": "markdown",
   "id": "3846dc85",
   "metadata": {},
   "source": [
    "# Movies Recommendation Model\n",
    "---\n",
    "- based on user watched movies pattern\n",
    "\n",
    "- `content based` -> based on user watch before\n",
    "- `popularity based` -> based on the popularity of content (movies)\n",
    "- `collabrative based` -> gropus people based on their watching pattern "
   ]
  },
  {
   "cell_type": "markdown",
   "id": "2be8abf6",
   "metadata": {},
   "source": [
    "![workflow](../images/workflow.png)\n",
    "\n",
    "Data Movies -> Data preprocessing and Analysis -> Feature Extraction -> Similarity Score bw movies (Cosine Simlarity) -> List of Movies"
   ]
  },
  {
   "cell_type": "markdown",
   "id": "d0b689a8",
   "metadata": {},
   "source": [
    "- Cosine Similiarity (relationship btween datasets)"
   ]
  },
  {
   "cell_type": "code",
   "execution_count": 87,
   "id": "24567c6d",
   "metadata": {},
   "outputs": [],
   "source": [
    "import pandas as pd \n",
    "import numpy as np\n",
    "import matplotlib.pyplot as plt\n",
    "import seaborn as sns\n",
    "import warnings\n",
    "\n",
    "import difflib # get the close match of the movie name\n",
    "from sklearn.feature_extraction.text import TfidfVectorizer # textula data to numerical data\n",
    "from sklearn.metrics.pairwise import cosine_similarity #(highest similarity score)\n",
    "\n",
    "warnings.filterwarnings('ignore') "
   ]
  },
  {
   "cell_type": "code",
   "execution_count": 88,
   "id": "25a8c728",
   "metadata": {},
   "outputs": [],
   "source": [
    "movies = pd.read_csv('../Datasets/movies.csv')\n",
    "movies.drop(columns=['index'], inplace=True)\n",
    "# homepage 3091 almost all the values are null\n",
    "movies.drop(columns=['homepage'], inplace=True)"
   ]
  },
  {
   "cell_type": "code",
   "execution_count": 89,
   "id": "0764ca16",
   "metadata": {},
   "outputs": [
    {
     "data": {
      "text/html": [
       "<div>\n",
       "<style scoped>\n",
       "    .dataframe tbody tr th:only-of-type {\n",
       "        vertical-align: middle;\n",
       "    }\n",
       "\n",
       "    .dataframe tbody tr th {\n",
       "        vertical-align: top;\n",
       "    }\n",
       "\n",
       "    .dataframe thead th {\n",
       "        text-align: right;\n",
       "    }\n",
       "</style>\n",
       "<table border=\"1\" class=\"dataframe\">\n",
       "  <thead>\n",
       "    <tr style=\"text-align: right;\">\n",
       "      <th></th>\n",
       "      <th>budget</th>\n",
       "      <th>genres</th>\n",
       "      <th>id</th>\n",
       "      <th>keywords</th>\n",
       "      <th>original_language</th>\n",
       "      <th>original_title</th>\n",
       "      <th>overview</th>\n",
       "      <th>popularity</th>\n",
       "      <th>production_companies</th>\n",
       "      <th>production_countries</th>\n",
       "      <th>...</th>\n",
       "      <th>runtime</th>\n",
       "      <th>spoken_languages</th>\n",
       "      <th>status</th>\n",
       "      <th>tagline</th>\n",
       "      <th>title</th>\n",
       "      <th>vote_average</th>\n",
       "      <th>vote_count</th>\n",
       "      <th>cast</th>\n",
       "      <th>crew</th>\n",
       "      <th>director</th>\n",
       "    </tr>\n",
       "  </thead>\n",
       "  <tbody>\n",
       "    <tr>\n",
       "      <th>0</th>\n",
       "      <td>237000000</td>\n",
       "      <td>Action Adventure Fantasy Science Fiction</td>\n",
       "      <td>19995</td>\n",
       "      <td>culture clash future space war space colony so...</td>\n",
       "      <td>en</td>\n",
       "      <td>Avatar</td>\n",
       "      <td>In the 22nd century, a paraplegic Marine is di...</td>\n",
       "      <td>150.437577</td>\n",
       "      <td>[{\"name\": \"Ingenious Film Partners\", \"id\": 289...</td>\n",
       "      <td>[{\"iso_3166_1\": \"US\", \"name\": \"United States o...</td>\n",
       "      <td>...</td>\n",
       "      <td>162.0</td>\n",
       "      <td>[{\"iso_639_1\": \"en\", \"name\": \"English\"}, {\"iso...</td>\n",
       "      <td>Released</td>\n",
       "      <td>Enter the World of Pandora.</td>\n",
       "      <td>Avatar</td>\n",
       "      <td>7.2</td>\n",
       "      <td>11800</td>\n",
       "      <td>Sam Worthington Zoe Saldana Sigourney Weaver S...</td>\n",
       "      <td>[{'name': 'Stephen E. Rivkin', 'gender': 0, 'd...</td>\n",
       "      <td>James Cameron</td>\n",
       "    </tr>\n",
       "  </tbody>\n",
       "</table>\n",
       "<p>1 rows × 22 columns</p>\n",
       "</div>"
      ],
      "text/plain": [
       "      budget                                    genres     id  \\\n",
       "0  237000000  Action Adventure Fantasy Science Fiction  19995   \n",
       "\n",
       "                                            keywords original_language  \\\n",
       "0  culture clash future space war space colony so...                en   \n",
       "\n",
       "  original_title                                           overview  \\\n",
       "0         Avatar  In the 22nd century, a paraplegic Marine is di...   \n",
       "\n",
       "   popularity                               production_companies  \\\n",
       "0  150.437577  [{\"name\": \"Ingenious Film Partners\", \"id\": 289...   \n",
       "\n",
       "                                production_countries  ... runtime  \\\n",
       "0  [{\"iso_3166_1\": \"US\", \"name\": \"United States o...  ...   162.0   \n",
       "\n",
       "                                    spoken_languages    status  \\\n",
       "0  [{\"iso_639_1\": \"en\", \"name\": \"English\"}, {\"iso...  Released   \n",
       "\n",
       "                       tagline   title vote_average vote_count  \\\n",
       "0  Enter the World of Pandora.  Avatar          7.2      11800   \n",
       "\n",
       "                                                cast  \\\n",
       "0  Sam Worthington Zoe Saldana Sigourney Weaver S...   \n",
       "\n",
       "                                                crew       director  \n",
       "0  [{'name': 'Stephen E. Rivkin', 'gender': 0, 'd...  James Cameron  \n",
       "\n",
       "[1 rows x 22 columns]"
      ]
     },
     "execution_count": 89,
     "metadata": {},
     "output_type": "execute_result"
    }
   ],
   "source": [
    "movies.head(1)"
   ]
  },
  {
   "cell_type": "code",
   "execution_count": 90,
   "id": "38382381",
   "metadata": {},
   "outputs": [
    {
     "name": "stdout",
     "output_type": "stream",
     "text": [
      "<class 'pandas.core.frame.DataFrame'>\n",
      "RangeIndex: 4803 entries, 0 to 4802\n",
      "Data columns (total 22 columns):\n",
      " #   Column                Non-Null Count  Dtype  \n",
      "---  ------                --------------  -----  \n",
      " 0   budget                4803 non-null   int64  \n",
      " 1   genres                4775 non-null   object \n",
      " 2   id                    4803 non-null   int64  \n",
      " 3   keywords              4391 non-null   object \n",
      " 4   original_language     4803 non-null   object \n",
      " 5   original_title        4803 non-null   object \n",
      " 6   overview              4800 non-null   object \n",
      " 7   popularity            4803 non-null   float64\n",
      " 8   production_companies  4803 non-null   object \n",
      " 9   production_countries  4803 non-null   object \n",
      " 10  release_date          4802 non-null   object \n",
      " 11  revenue               4803 non-null   int64  \n",
      " 12  runtime               4801 non-null   float64\n",
      " 13  spoken_languages      4803 non-null   object \n",
      " 14  status                4803 non-null   object \n",
      " 15  tagline               3959 non-null   object \n",
      " 16  title                 4803 non-null   object \n",
      " 17  vote_average          4803 non-null   float64\n",
      " 18  vote_count            4803 non-null   int64  \n",
      " 19  cast                  4760 non-null   object \n",
      " 20  crew                  4803 non-null   object \n",
      " 21  director              4773 non-null   object \n",
      "dtypes: float64(3), int64(4), object(15)\n",
      "memory usage: 825.6+ KB\n"
     ]
    }
   ],
   "source": [
    "movies.info()"
   ]
  },
  {
   "cell_type": "code",
   "execution_count": 91,
   "id": "0185ad7c",
   "metadata": {},
   "outputs": [
    {
     "data": {
      "text/plain": [
       "(4803, 22)"
      ]
     },
     "execution_count": 91,
     "metadata": {},
     "output_type": "execute_result"
    }
   ],
   "source": [
    "movies.shape"
   ]
  },
  {
   "cell_type": "code",
   "execution_count": 92,
   "id": "519efd55",
   "metadata": {},
   "outputs": [
    {
     "data": {
      "text/plain": [
       "budget                    0\n",
       "genres                   28\n",
       "id                        0\n",
       "keywords                412\n",
       "original_language         0\n",
       "original_title            0\n",
       "overview                  3\n",
       "popularity                0\n",
       "production_companies      0\n",
       "production_countries      0\n",
       "release_date              1\n",
       "revenue                   0\n",
       "runtime                   2\n",
       "spoken_languages          0\n",
       "status                    0\n",
       "tagline                 844\n",
       "title                     0\n",
       "vote_average              0\n",
       "vote_count                0\n",
       "cast                     43\n",
       "crew                      0\n",
       "director                 30\n",
       "dtype: int64"
      ]
     },
     "execution_count": 92,
     "metadata": {},
     "output_type": "execute_result"
    }
   ],
   "source": [
    "movies.isnull().sum()"
   ]
  },
  {
   "cell_type": "markdown",
   "id": "5093c211",
   "metadata": {},
   "source": [
    "## Selecting the relavent feature for movie recommendation"
   ]
  },
  {
   "cell_type": "code",
   "execution_count": 93,
   "id": "49a9b948",
   "metadata": {},
   "outputs": [
    {
     "name": "stdout",
     "output_type": "stream",
     "text": [
      "Features selected for recommendation system: ['keywords', 'cast', 'genres', 'director', 'tagline', 'overview', 'title']\n"
     ]
    }
   ],
   "source": [
    "# based on content \n",
    "features = ['keywords', 'cast', 'genres', 'director', 'tagline', 'overview', 'title']\n",
    "print(\"Features selected for recommendation system:\", features)"
   ]
  },
  {
   "cell_type": "code",
   "execution_count": 94,
   "id": "4906d172",
   "metadata": {},
   "outputs": [],
   "source": [
    "for feature in features:\n",
    "    movies[feature] = movies[feature].fillna('') "
   ]
  },
  {
   "cell_type": "code",
   "execution_count": 95,
   "id": "18ebb37f",
   "metadata": {},
   "outputs": [
    {
     "data": {
      "text/plain": [
       "0    culture clash future space war space colony so...\n",
       "1    ocean drug abuse exotic island east india trad...\n",
       "2    spy based on novel secret agent sequel mi6 Dan...\n",
       "3    dc comics crime fighter terrorist secret ident...\n",
       "4    based on novel mars medallion space travel pri...\n",
       "dtype: object"
      ]
     },
     "execution_count": 95,
     "metadata": {},
     "output_type": "execute_result"
    }
   ],
   "source": [
    "def combine_features(features_list):\n",
    "    temp_df = movies[features_list].copy()\n",
    "    return temp_df.apply(lambda row: ' '.join(row), axis=1)\n",
    "\n",
    "df = combine_features(features_list=features)\n",
    "df.head()"
   ]
  },
  {
   "cell_type": "code",
   "execution_count": 96,
   "id": "239b9d69",
   "metadata": {},
   "outputs": [],
   "source": [
    "# combined_features = movies['keywords'] + ' ' + movies['cast'] + ' ' + movies['genres'] + ' ' + movies['director'] + ' ' + movies['tagline'] + ' ' + movies['overview']\n",
    "\n",
    "# combined_features.shape"
   ]
  },
  {
   "cell_type": "code",
   "execution_count": 97,
   "id": "5593350c",
   "metadata": {},
   "outputs": [
    {
     "data": {
      "text/plain": [
       "(4803, 30592)"
      ]
     },
     "execution_count": 97,
     "metadata": {},
     "output_type": "execute_result"
    }
   ],
   "source": [
    "# convert the text data into numerical data\n",
    "tfidf_vectorizer = TfidfVectorizer()\n",
    "tfidf_matrix = tfidf_vectorizer.fit_transform(combined_features)\n",
    "tfidf_matrix.shape"
   ]
  },
  {
   "cell_type": "markdown",
   "id": "8f0fb3a4",
   "metadata": {},
   "source": [
    "## Cosine Similarity Score or Similarity confidence value"
   ]
  },
  {
   "cell_type": "code",
   "execution_count": 98,
   "id": "f62ebd45",
   "metadata": {},
   "outputs": [
    {
     "name": "stdout",
     "output_type": "stream",
     "text": [
      "(4803, 4803)\n"
     ]
    }
   ],
   "source": [
    "cosine_sim = cosine_similarity(tfidf_matrix)\n",
    "print(cosine_sim.shape)"
   ]
  },
  {
   "cell_type": "code",
   "execution_count": 99,
   "id": "b7315a89",
   "metadata": {},
   "outputs": [],
   "source": [
    "# getting movies anme\n",
    "movies_name = \"God father\""
   ]
  },
  {
   "cell_type": "code",
   "execution_count": 100,
   "id": "1680c0ce",
   "metadata": {},
   "outputs": [
    {
     "data": {
      "text/plain": [
       "['The Godfather', 'The Last Godfather', 'Goldfinger']"
      ]
     },
     "execution_count": 100,
     "metadata": {},
     "output_type": "execute_result"
    }
   ],
   "source": [
    "# creating the list of all movie names in datastes\n",
    "movies_list = movies['title'].tolist()\n",
    "# getting the close match of the movie name\n",
    "close_match = difflib.get_close_matches(movies_name, movies_list)\n",
    "close_match"
   ]
  },
  {
   "cell_type": "code",
   "execution_count": 101,
   "id": "10b8f09c",
   "metadata": {},
   "outputs": [
    {
     "data": {
      "text/plain": [
       "3337"
      ]
     },
     "execution_count": 101,
     "metadata": {},
     "output_type": "execute_result"
    }
   ],
   "source": [
    "# getting the index of the movie with the close match\n",
    "movie_index = movies[movies.title == close_match[0]].index[0]\n",
    "movie_index"
   ]
  },
  {
   "cell_type": "code",
   "execution_count": 102,
   "id": "e0e9f335",
   "metadata": {},
   "outputs": [
    {
     "data": {
      "text/plain": [
       "[(3337, 1.0000000000000002),\n",
       " (2731, 0.3400721247063389),\n",
       " (867, 0.24579758343491187),\n",
       " (1873, 0.14066696731815023),\n",
       " (1225, 0.12270123122479634),\n",
       " (1525, 0.12086680678462663),\n",
       " (877, 0.11764345466464356),\n",
       " (3125, 0.11451810418839659),\n",
       " (2038, 0.11145789029578734),\n",
       " (2553, 0.11055655989419616)]"
      ]
     },
     "execution_count": 102,
     "metadata": {},
     "output_type": "execute_result"
    }
   ],
   "source": [
    "# getting the similarity score of all the movies with the selected movie\n",
    "similarity_score = list(enumerate(cosine_sim[movie_index]))\n",
    "# sorting the movies based on the similarity score\n",
    "sorted_similar_movies = sorted(similarity_score, key=lambda x: x[1], reverse=True)\n",
    "sorted_similar_movies[:10]"
   ]
  },
  {
   "cell_type": "code",
   "execution_count": 103,
   "id": "6e9b9ea1",
   "metadata": {},
   "outputs": [
    {
     "name": "stdout",
     "output_type": "stream",
     "text": [
      "Movies recommended for you:\n",
      "The Godfather\n",
      "The Godfather: Part II\n",
      "The Godfather: Part III\n",
      "Blood Ties\n",
      "Mickey Blue Eyes\n"
     ]
    }
   ],
   "source": [
    "# getting the top 10 similar movies\n",
    "recommended_movies = sorted_similar_movies[0:5]\n",
    "# printing the names of the top 10 similar movies\n",
    "print(\"Movies recommended for you:\")\n",
    "for movie in recommended_movies:\n",
    "    print(movies.iloc[movie[0]].title)"
   ]
  },
  {
   "cell_type": "code",
   "execution_count": null,
   "id": "4a3e3702",
   "metadata": {},
   "outputs": [],
   "source": []
  },
  {
   "cell_type": "code",
   "execution_count": null,
   "id": "718a6310",
   "metadata": {},
   "outputs": [],
   "source": []
  },
  {
   "cell_type": "code",
   "execution_count": null,
   "id": "6578ed16",
   "metadata": {},
   "outputs": [],
   "source": []
  },
  {
   "cell_type": "code",
   "execution_count": null,
   "id": "d51317ec",
   "metadata": {},
   "outputs": [],
   "source": []
  },
  {
   "cell_type": "code",
   "execution_count": null,
   "id": "398bd16d",
   "metadata": {},
   "outputs": [],
   "source": []
  },
  {
   "cell_type": "code",
   "execution_count": null,
   "id": "4dddb7ea",
   "metadata": {},
   "outputs": [],
   "source": []
  }
 ],
 "metadata": {
  "kernelspec": {
   "display_name": "base",
   "language": "python",
   "name": "python3"
  },
  "language_info": {
   "codemirror_mode": {
    "name": "ipython",
    "version": 3
   },
   "file_extension": ".py",
   "mimetype": "text/x-python",
   "name": "python",
   "nbconvert_exporter": "python",
   "pygments_lexer": "ipython3",
   "version": "3.12.3"
  }
 },
 "nbformat": 4,
 "nbformat_minor": 5
}
