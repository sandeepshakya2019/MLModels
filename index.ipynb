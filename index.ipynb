{
 "cells": [
  {
   "cell_type": "code",
   "execution_count": 1,
   "id": "d7b5fa7b",
   "metadata": {},
   "outputs": [
    {
     "name": "stdout",
     "output_type": "stream",
     "text": [
      "['.git', 'CustomerSegemtnationKmean', 'DiabetesPredictionSVC', 'FakeNewPredictionLogisctics', 'GoldPriceRandomForest', 'HousePricePredictionXGBooster', 'MovierecommendationApp', 'MoviesRecommendationSystem', 'MusicRecommendationApp', 'WineQualityPredictionRandomForest']\n"
     ]
    }
   ],
   "source": [
    "import os\n",
    "\n",
    "ml_dir = r'd:\\1_Placement\\8_Projects\\ML'\n",
    "folders = [f for f in os.listdir(ml_dir) if os.path.isdir(os.path.join(ml_dir, f))]\n",
    "print(folders)"
   ]
  },
  {
   "cell_type": "code",
   "execution_count": null,
   "id": "55d38d0f",
   "metadata": {},
   "outputs": [],
   "source": []
  }
 ],
 "metadata": {
  "kernelspec": {
   "display_name": "base",
   "language": "python",
   "name": "python3"
  },
  "language_info": {
   "codemirror_mode": {
    "name": "ipython",
    "version": 3
   },
   "file_extension": ".py",
   "mimetype": "text/x-python",
   "name": "python",
   "nbconvert_exporter": "python",
   "pygments_lexer": "ipython3",
   "version": "3.12.3"
  }
 },
 "nbformat": 4,
 "nbformat_minor": 5
}
